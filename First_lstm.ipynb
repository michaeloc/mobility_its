{
 "cells": [
  {
   "cell_type": "code",
   "execution_count": 1,
   "metadata": {},
   "outputs": [],
   "source": [
    "%matplotlib inline\n",
    "import numpy as np\n",
    "import tensorflow as tf\n",
    "import pandas as pd\n",
    "import time\n",
    "import os\n",
    "from sklearn.metrics import confusion_matrix\n",
    "import matplotlib.pyplot as plt\n",
    "import itertools"
   ]
  },
  {
   "cell_type": "code",
   "execution_count": 2,
   "metadata": {},
   "outputs": [],
   "source": [
    "data = pd.read_csv('data_map_stops_final.csv')"
   ]
  },
  {
   "cell_type": "code",
   "execution_count": 3,
   "metadata": {},
   "outputs": [],
   "source": [
    "data.dropna(inplace=True)"
   ]
  },
  {
   "cell_type": "markdown",
   "metadata": {},
   "source": [
    "### Eliminating some labels"
   ]
  },
  {
   "cell_type": "code",
   "execution_count": 4,
   "metadata": {},
   "outputs": [],
   "source": [
    "data = data[(data['label'] != 'init_trip') & (data['label']!='end_trip')]"
   ]
  },
  {
   "cell_type": "markdown",
   "metadata": {},
   "source": [
    "### Splitting data"
   ]
  },
  {
   "cell_type": "code",
   "execution_count": 5,
   "metadata": {},
   "outputs": [],
   "source": [
    "X = data[['lat','lng','velocidade','acc','delta_time','delta_space','matricula_id','week_days','hours','months']].values\n",
    "y = data[['label']].values"
   ]
  },
  {
   "cell_type": "markdown",
   "metadata": {},
   "source": [
    "### Plotting labels distributions"
   ]
  },
  {
   "cell_type": "code",
   "execution_count": 6,
   "metadata": {},
   "outputs": [],
   "source": [
    "def bar_plot(x,y):\n",
    "    fig, ax = plt.subplots()\n",
    "    plt.bar(np.arange(len(x)),x)\n",
    "    plt.xticks(np.arange(len(x)), ('bus_stop', 'in_route', 'other_stop', 'traffic_light'))\n",
    "    plt.show()\n"
   ]
  },
  {
   "cell_type": "code",
   "execution_count": 7,
   "metadata": {},
   "outputs": [],
   "source": [
    "bus_stop = len(data[data['label']=='bus_stop'])\n",
    "in_route = len(data[data['label']=='in_route'])\n",
    "other_stop = len(data[data['label']=='other_stop'])\n",
    "traffic_light = len(data[data['label']=='traffic_light'])"
   ]
  },
  {
   "cell_type": "code",
   "execution_count": 8,
   "metadata": {},
   "outputs": [
    {
     "data": {
      "image/png": "[encoded data removed]",
      "text/plain": [
       "<Figure size 432x288 with 1 Axes>"
      ]
     },
     "metadata": {
      "needs_background": "light"
     },
     "output_type": "display_data"
    }
   ],
   "source": [
    "bar_plot([bus_stop,in_route,other_stop,traffic_light],np.unique(y).tolist())"
   ]
  },
  {
   "cell_type": "markdown",
   "metadata": {},
   "source": [
    "### Enconding categorical variable\n",
    "<p> Those variables "
   ]
  },
  {
   "cell_type": "code",
   "execution_count": 9,
   "metadata": {},
   "outputs": [],
   "source": [
    "from sklearn.preprocessing import LabelEncoder, OneHotEncoder"
   ]
  },
  {
   "cell_type": "code",
   "execution_count": 10,
   "metadata": {},
   "outputs": [],
   "source": [
    "lb = LabelEncoder()\n",
    "X[:,6] = lb.fit_transform(X[:,6])\n",
    "X[:,7] = lb.fit_transform(X[:,7])\n",
    "X[:,8] = lb.fit_transform(X[:,8])\n",
    "X[:,9] = lb.fit_transform(X[:,9])"
   ]
  },
  {
   "cell_type": "code",
   "execution_count": 11,
   "metadata": {},
   "outputs": [
    {
     "data": {
      "text/plain": [
       "(array([0, 1, 2, 3, 4, 5, 6, 7, 8, 9, 10, 11, 12, 13, 14, 15, 16, 17, 18,\n",
       "        19, 20, 21, 22, 23, 24, 25, 26, 27, 28, 29, 30, 31, 32, 33, 34, 35,\n",
       "        36, 37, 38, 39, 40, 41, 42, 43, 44, 45, 46, 47, 48, 49, 50, 51, 52],\n",
       "       dtype=object),\n",
       " array([0, 1, 2, 3, 4, 5, 6], dtype=object),\n",
       " array([0, 1, 2, 3, 4, 5, 6, 7, 8, 9, 10, 11, 12, 13, 14, 15, 16, 17, 18,\n",
       "        19, 20, 21, 22, 23], dtype=object),\n",
       " array([0, 1], dtype=object))"
      ]
     },
     "execution_count": 11,
     "metadata": {},
     "output_type": "execute_result"
    }
   ],
   "source": [
    "np.unique(X[:,6]),np.unique(X[:,7]), np.unique(X[:,8]),np.unique(X[:,9])"
   ]
  },
  {
   "cell_type": "code",
   "execution_count": 12,
   "metadata": {},
   "outputs": [
    {
     "name": "stderr",
     "output_type": "stream",
     "text": [
      "/home/mobility/anaconda/envs/michael_env/lib/python3.6/site-packages/sklearn/preprocessing/label.py:111: DataConversionWarning: A column-vector y was passed when a 1d array was expected. Please change the shape of y to (n_samples, ), for example using ravel().\n",
      "  y = column_or_1d(y, warn=True)\n"
     ]
    }
   ],
   "source": [
    "le = LabelEncoder()\n",
    "y = le.fit_transform(y)"
   ]
  },
  {
   "cell_type": "code",
   "execution_count": 13,
   "metadata": {},
   "outputs": [
    {
     "data": {
      "text/plain": [
       "array([0, 1, 2, 3])"
      ]
     },
     "execution_count": 13,
     "metadata": {},
     "output_type": "execute_result"
    }
   ],
   "source": [
    "np.unique(y)"
   ]
  },
  {
   "cell_type": "markdown",
   "metadata": {},
   "source": [
    "### Splitting in train and test"
   ]
  },
  {
   "cell_type": "code",
   "execution_count": 14,
   "metadata": {},
   "outputs": [],
   "source": [
    "from sklearn.model_selection import train_test_split\n",
    "X_train,X_test,y_train,y_test = train_test_split(X,y, test_size=0.2)"
   ]
  },
  {
   "cell_type": "markdown",
   "metadata": {},
   "source": [
    "### Batch function"
   ]
  },
  {
   "cell_type": "code",
   "execution_count": 15,
   "metadata": {},
   "outputs": [],
   "source": [
    "def get_batches(x, y, batch_size, n_steps):\n",
    "    '''Create a generator that returns batches of size\n",
    "       batch_size x n_steps from arr.\n",
    "       \n",
    "       Arguments\n",
    "       ---------\n",
    "       x: Array you want to make batches from\n",
    "       batch_size: Batch size, the number of sequences per batch\n",
    "       n_steps: Number of sequence steps per batch\n",
    "    '''\n",
    "    # Get the number of characters per batch and number of batches we can make\n",
    "    characters_per_batch = batch_size*n_steps\n",
    "    n_batches = len(x)//characters_per_batch\n",
    "    # Keep only enough characters to make full batches\n",
    "    x= x[:characters_per_batch*n_batches]\n",
    "    y= y[:characters_per_batch*n_batches]\n",
    "    \n",
    "    # Reshape into batch_size rows\n",
    "    x= x.reshape((-1,n_steps,10))\n",
    "    y= y.reshape((-1,n_steps))\n",
    "    for n in range(0, x.shape[0], batch_size):\n",
    "        # The features\n",
    "        x1 = x[n:n+batch_size]\n",
    "        # The targets, shifted by one\n",
    "        y1 = y[n:n+batch_size]\n",
    "        \n",
    "        yield x1, y1"
   ]
  },
  {
   "cell_type": "code",
   "execution_count": 16,
   "metadata": {},
   "outputs": [],
   "source": [
    "a = get_batches(X_train,y_train, 10, 50)"
   ]
  },
  {
   "cell_type": "code",
   "execution_count": 17,
   "metadata": {},
   "outputs": [
    {
     "data": {
      "text/plain": [
       "(341793, 341793)"
      ]
     },
     "execution_count": 17,
     "metadata": {},
     "output_type": "execute_result"
    }
   ],
   "source": [
    "len(X_train),len(y_train)"
   ]
  },
  {
   "cell_type": "code",
   "execution_count": 18,
   "metadata": {},
   "outputs": [],
   "source": [
    "a,b = next(a)"
   ]
  },
  {
   "cell_type": "markdown",
   "metadata": {},
   "source": [
    "### Building LSTM"
   ]
  },
  {
   "cell_type": "code",
   "execution_count": 19,
   "metadata": {},
   "outputs": [],
   "source": [
    "def build_inputs(batch_size, num_steps, features_numeric, features_discrete):\n",
    "    ''' Define placeholders for inputs, targets, and dropout \n",
    "    \n",
    "        Arguments\n",
    "        ---------\n",
    "        batch_size: Batch size, number of sequences per batch\n",
    "        num_steps: Number of sequence steps in a batch\n",
    "        features: Number of features in batch\n",
    "        \n",
    "    '''\n",
    "    # Declare placeholders we'll feed into the graph\n",
    "    inputs = tf.placeholder(tf.float32, [batch_size, num_steps, features_numeric], name='inputs_numeric')\n",
    "    inputs_id = tf.placeholder(tf.int32, [batch_size, num_steps, features_discrete], name='inputs_id') \n",
    "    inputs_m = tf.placeholder(tf.int32, [batch_size, num_steps, features_discrete], name='inputs_month')\n",
    "    inputs_w = tf.placeholder(tf.int32, [batch_size, num_steps, features_discrete], name='inputs_week')\n",
    "    inputs_h = tf.placeholder(tf.int32, [batch_size, num_steps, features_discrete], name='inputs_hour')\n",
    "    targets = tf.placeholder(tf.int32, [batch_size, num_steps], name='targets')\n",
    "    \n",
    "    # Keep probability placeholder for drop out layers\n",
    "    keep_prob = tf.placeholder(tf.float32)\n",
    "    \n",
    "    return inputs,inputs_id,inputs_m, inputs_w, inputs_h, targets, keep_prob"
   ]
  },
  {
   "cell_type": "code",
   "execution_count": 20,
   "metadata": {},
   "outputs": [],
   "source": [
    "def build_input_summaries():\n",
    "    tf_loss = tf.placeholder(tf.float32, shape=None, name='loss_summary')\n",
    "    tf_loss_summary = tf.summary.scalar('loss', tf_loss)"
   ]
  },
  {
   "cell_type": "code",
   "execution_count": 21,
   "metadata": {},
   "outputs": [],
   "source": [
    "def build_embeddings(n_vocab,n_embedding,inputs, name):\n",
    "    with tf.variable_scope('embeddings'):\n",
    "        embedding = tf.Variable(tf.random_uniform((n_vocab,n_embedding),-1,1), name=name)\n",
    "        embed = tf.nn.embedding_lookup(embedding, inputs)\n",
    "    return embed"
   ]
  },
  {
   "cell_type": "code",
   "execution_count": 22,
   "metadata": {},
   "outputs": [],
   "source": [
    "def build_lstm(lstm_size, num_layers, batch_size, keep_prob):\n",
    "    ''' Build LSTM cell.\n",
    "    \n",
    "        Arguments\n",
    "        ---------\n",
    "        keep_prob: Scalar tensor (tf.placeholder) for the dropout keep probability\n",
    "        lstm_size: Size of the hidden layers in the LSTM cells\n",
    "        num_layers: Number of LSTM layers\n",
    "        batch_size: Batch size\n",
    "\n",
    "    '''\n",
    "    ### Build the LSTM Cell\n",
    "    # Use a basic LSTM cell\n",
    "    def build_cell(lstm_size, keep_prob):\n",
    "        # Use a basic LSTM cell\n",
    "        lstm = tf.contrib.rnn.BasicLSTMCell(lstm_size)\n",
    "\n",
    "        # Add dropout to the cell\n",
    "        drop = tf.contrib.rnn.DropoutWrapper(lstm, output_keep_prob=keep_prob)\n",
    "        return drop\n",
    "    \n",
    "    \n",
    "    # Stack up multiple LSTM layers, for deep learning\n",
    "    cell = tf.contrib.rnn.MultiRNNCell([build_cell(lstm_size, keep_prob) for _ in range(num_layers)])\n",
    "    initial_state = cell.zero_state(batch_size, tf.float32)\n",
    "\n",
    "    \n",
    "    return cell, initial_state"
   ]
  },
  {
   "cell_type": "code",
   "execution_count": 23,
   "metadata": {},
   "outputs": [],
   "source": [
    "def build_output(lstm_output, in_size, out_size,embed_id, embed_m, embed_w, embed_h):\n",
    "    ''' Build a softmax layer, return the softmax output and logits.\n",
    "    \n",
    "        Arguments\n",
    "        ---------\n",
    "        \n",
    "        lstm_output: List of output tensors from the LSTM layer\n",
    "        in_size: Size of the input tensor, for example, size of the LSTM cells\n",
    "        out_size: Size of this softmax layer\n",
    "    \n",
    "    '''\n",
    "\n",
    "    # Reshape output so it's a bunch of rows, one row for each step for each sequence.\n",
    "    # Concatenate lstm_output over axis 1 (the columns)\n",
    "    seq_output = tf.concat(lstm_output, axis=1)\n",
    "    # Reshape seq_output to a 2D tensor with lstm_size columns\n",
    "    # -1 porque ele preenche a quantidade de linhas de automaticamente, apenas fixa as colunas\n",
    "    x = tf.reshape(seq_output,[-1,in_size])\n",
    "    \n",
    "    x = tf.concat([x, tf.reshape(embed_id,[-1,10]),tf.reshape(embed_m,[-1,10]), tf.reshape(embed_w,[-1,10]), tf.reshape(embed_h,[-1,10])],1)\n",
    "    print(x)\n",
    "    # Connect the RNN outputs to a softmax layer\n",
    "    with tf.variable_scope('softmax'):\n",
    "        # Create the weight and bias variables here\n",
    "        softmax_w = tf.Variable(tf.truncated_normal((in_size+40,out_size),stddev=0.1))\n",
    "        softmax_b = tf.Variable(tf.zeros(out_size))\n",
    "    \n",
    "    tf.summary.histogram('softmax_w', softmax_w)\n",
    "    # Since output is a bunch of rows of RNN cell outputs, logits will be a bunch\n",
    "    # of rows of logit outputs, one for each step and sequence\n",
    "    logits = tf.add(tf.matmul(x,softmax_w), softmax_b)\n",
    "    \n",
    "    # Use softmax to get the probabilities for predicted characters\n",
    "    out = tf.nn.softmax(logits=logits)\n",
    "    \n",
    "    return out, logits"
   ]
  },
  {
   "cell_type": "code",
   "execution_count": 24,
   "metadata": {},
   "outputs": [],
   "source": [
    "def build_loss(logits, targets,num_classes):\n",
    "    ''' Calculate the loss from the logits and the targets.\n",
    "    \n",
    "        Arguments\n",
    "        ---------\n",
    "        logits: Logits from final fully connected layer\n",
    "        targets: Targets for supervised learning\n",
    "        lstm_size: Number of LSTM hidden units\n",
    "        num_classes: Number of classes in targets\n",
    "        \n",
    "    '''\n",
    "    \n",
    "    # One-hot encode targets and reshape to match logits, one row per sequence per step\n",
    "    y_one_hot = tf.one_hot(targets,num_classes)\n",
    "    y_reshaped =  tf.reshape(y_one_hot,logits.get_shape())\n",
    "    \n",
    "    # Softmax cross entropy loss\n",
    "    loss = tf.nn.softmax_cross_entropy_with_logits(labels=y_reshaped, logits=logits)\n",
    "    loss = tf.reduce_mean(loss)\n",
    "    return loss"
   ]
  },
  {
   "cell_type": "code",
   "execution_count": 25,
   "metadata": {},
   "outputs": [],
   "source": [
    "def build_optimizer(loss, learning_rate, grad_clip):\n",
    "    ''' Build optmizer for training, using gradient clipping.\n",
    "    \n",
    "        Arguments:\n",
    "        loss: Network loss\n",
    "        learning_rate: Learning rate for optimizer\n",
    "    \n",
    "    '''\n",
    "    \n",
    "    # Optimizer for training, using gradient clipping to control exploding gradients\n",
    "    tvars = tf.trainable_variables()\n",
    "    grads, _ = tf.clip_by_global_norm(tf.gradients(loss, tvars), grad_clip)\n",
    "    train_op = tf.train.AdamOptimizer(learning_rate)\n",
    "    optimizer = train_op.apply_gradients(zip(grads, tvars))\n",
    "    \n",
    "    return optimizer"
   ]
  },
  {
   "cell_type": "code",
   "execution_count": 26,
   "metadata": {},
   "outputs": [],
   "source": [
    "class MobilityRNN:\n",
    "    \n",
    "    def __init__(self, num_classes=4, batch_size=64, num_steps=50, \n",
    "                       lstm_size=128, num_layers=2, learning_rate=0.001, \n",
    "                       grad_clip=5, sampling=False, features1=6, features2=1):\n",
    "    \n",
    "        # When we're using this network for sampling later, we'll be passing in\n",
    "        # one character at a time, so providing an option for that\n",
    "#         if sampling == True:\n",
    "#             batch_size, num_steps = 1, 1\n",
    "#         else:\n",
    "        batch_size, num_steps = batch_size, num_steps\n",
    "\n",
    "        tf.reset_default_graph()\n",
    "        \n",
    "        # Build the input placeholder tensors\n",
    "        self.inputs, self.inputs_id, self.inputs_m, self.inputs_w, self.inputs_h, self.targets, self.keep_prob = build_inputs(batch_size,num_steps,features1,features2)\n",
    "                \n",
    "        self.embed_id = build_embeddings(53,10,self.inputs_id,'matricula_id')\n",
    "        self.embed_m = build_embeddings(2,10,self.inputs_m,'month')\n",
    "        self.embed_w = build_embeddings(7,10,self.inputs_w,'week')\n",
    "        self.embed_h = build_embeddings(24,10,self.inputs_h,'hour')\n",
    "        \n",
    "        # Build the LSTM cell\n",
    "        cell, self.initial_state = build_lstm(lstm_size,num_layers,batch_size,self.keep_prob)\n",
    "\n",
    "        # Run each sequence step through the RNN with tf.nn.dynamic_rnn \n",
    "        outputs, state =tf.nn.dynamic_rnn(cell, self.inputs, initial_state=self.initial_state)\n",
    "        self.final_state = state\n",
    "        \n",
    "        # Get softmax predictions and logits\n",
    "        self.prediction, self.logits = build_output(outputs,lstm_size,num_classes,self.embed_id,self.embed_m, self.embed_w, self.embed_h)\n",
    "\n",
    "        tf.summary.histogram(\"predictions\", self.prediction)\n",
    "        \n",
    "        # Loss and optimizer (with gradient clipping)\n",
    "        self.loss =  build_loss(self.logits,self.targets,num_classes)\n",
    "        self.optimizer = build_optimizer(self.loss, learning_rate, grad_clip)"
   ]
  },
  {
   "cell_type": "code",
   "execution_count": 27,
   "metadata": {},
   "outputs": [
    {
     "data": {
      "text/plain": [
       "48.0"
      ]
     },
     "execution_count": 27,
     "metadata": {},
     "output_type": "execute_result"
    }
   ],
   "source": [
    "24*8*0.25"
   ]
  },
  {
   "cell_type": "markdown",
   "metadata": {},
   "source": [
    "### Training the model"
   ]
  },
  {
   "cell_type": "code",
   "execution_count": 28,
   "metadata": {},
   "outputs": [],
   "source": [
    "batch_size = 10         # Sequences per batch\n",
    "num_steps = 10          # Number of sequence steps per batch\n",
    "lstm_size = 64         # Size of hidden layers in LSTMs\n",
    "num_layers = 1         # Number of LSTM layers\n",
    "learning_rate = 0.001    # Learning rate\n",
    "keep_prob = 0.5         # Dropout keep probability"
   ]
  },
  {
   "cell_type": "code",
   "execution_count": 26,
   "metadata": {},
   "outputs": [
    {
     "name": "stdout",
     "output_type": "stream",
     "text": [
      "Tensor(\"concat_1:0\", shape=(100, 104), dtype=float32)\n",
      "WARNING:tensorflow:From <ipython-input-21-3fd95a9bdaf3>:18: softmax_cross_entropy_with_logits (from tensorflow.python.ops.nn_ops) is deprecated and will be removed in a future version.\n",
      "Instructions for updating:\n",
      "\n",
      "Future major versions of TensorFlow will allow gradients to flow\n",
      "into the labels input on backprop by default.\n",
      "\n",
      "See tf.nn.softmax_cross_entropy_with_logits_v2.\n",
      "\n",
      "Epoch: 1/2...  Training Step: 50...  Training loss: 0.7423...  0.4363 sec/batch\n",
      "Epoch: 1/2...  Training Step: 100...  Training loss: 0.4311...  0.5119 sec/batch\n",
      "Epoch: 1/2...  Training Step: 150...  Training loss: 0.3510...  0.4619 sec/batch\n",
      "Epoch: 1/2...  Training Step: 200...  Training loss: 0.4663...  0.5473 sec/batch\n",
      "Epoch: 1/2...  Training Step: 250...  Training loss: 0.3094...  0.4753 sec/batch\n",
      "Epoch: 1/2...  Training Step: 300...  Training loss: 0.3636...  0.5368 sec/batch\n",
      "Epoch: 1/2...  Training Step: 350...  Training loss: 0.3640...  0.3869 sec/batch\n",
      "Epoch: 1/2...  Training Step: 400...  Training loss: 0.2662...  0.5808 sec/batch\n",
      "Epoch: 1/2...  Training Step: 450...  Training loss: 0.2505...  0.7450 sec/batch\n",
      "Epoch: 1/2...  Training Step: 500...  Training loss: 0.4197...  0.5584 sec/batch\n",
      "Epoch: 1/2...  Training Step: 550...  Training loss: 0.4302...  0.6480 sec/batch\n",
      "Epoch: 1/2...  Training Step: 600...  Training loss: 0.2357...  0.6648 sec/batch\n",
      "Epoch: 1/2...  Training Step: 650...  Training loss: 0.2543...  0.5729 sec/batch\n",
      "Epoch: 1/2...  Training Step: 700...  Training loss: 0.3557...  0.6419 sec/batch\n",
      "Epoch: 1/2...  Training Step: 750...  Training loss: 0.2982...  0.4772 sec/batch\n",
      "Epoch: 1/2...  Training Step: 800...  Training loss: 0.3574...  0.7314 sec/batch\n",
      "Epoch: 1/2...  Training Step: 850...  Training loss: 0.3005...  0.6657 sec/batch\n",
      "Epoch: 1/2...  Training Step: 900...  Training loss: 0.2785...  0.5517 sec/batch\n",
      "Epoch: 1/2...  Training Step: 950...  Training loss: 0.2784...  0.5717 sec/batch\n",
      "Epoch: 1/2...  Training Step: 1000...  Training loss: 0.2368...  0.6230 sec/batch\n",
      "Epoch: 1/2...  Training Step: 1050...  Training loss: 0.2877...  0.8698 sec/batch\n",
      "Epoch: 1/2...  Training Step: 1100...  Training loss: 0.4030...  0.5709 sec/batch\n",
      "Epoch: 1/2...  Training Step: 1150...  Training loss: 0.2319...  0.7425 sec/batch\n",
      "Epoch: 1/2...  Training Step: 1200...  Training loss: 0.3035...  0.5926 sec/batch\n",
      "Epoch: 1/2...  Training Step: 1250...  Training loss: 0.2836...  0.6002 sec/batch\n",
      "Epoch: 1/2...  Training Step: 1300...  Training loss: 0.4207...  0.6125 sec/batch\n",
      "Epoch: 1/2...  Training Step: 1350...  Training loss: 0.2365...  0.7417 sec/batch\n",
      "Epoch: 1/2...  Training Step: 1400...  Training loss: 0.2361...  0.6025 sec/batch\n",
      "Epoch: 1/2...  Training Step: 1450...  Training loss: 0.2925...  0.7469 sec/batch\n",
      "Epoch: 1/2...  Training Step: 1500...  Training loss: 0.2318...  0.4103 sec/batch\n",
      "Epoch: 1/2...  Training Step: 1550...  Training loss: 0.3018...  0.5009 sec/batch\n",
      "Epoch: 1/2...  Training Step: 1600...  Training loss: 0.2236...  0.7534 sec/batch\n",
      "Epoch: 1/2...  Training Step: 1650...  Training loss: 0.3090...  0.5989 sec/batch\n",
      "Epoch: 1/2...  Training Step: 1700...  Training loss: 0.2373...  0.7907 sec/batch\n",
      "Epoch: 1/2...  Training Step: 1750...  Training loss: 0.3328...  0.6329 sec/batch\n",
      "Epoch: 1/2...  Training Step: 1800...  Training loss: 0.2821...  0.5922 sec/batch\n",
      "Epoch: 1/2...  Training Step: 1850...  Training loss: 0.1939...  0.4254 sec/batch\n",
      "Epoch: 1/2...  Training Step: 1900...  Training loss: 0.2588...  0.6703 sec/batch\n",
      "Epoch: 1/2...  Training Step: 1950...  Training loss: 0.3425...  0.8102 sec/batch\n",
      "Epoch: 1/2...  Training Step: 2000...  Training loss: 0.2768...  0.9011 sec/batch\n",
      "Epoch: 1/2...  Training Step: 2050...  Training loss: 0.2623...  0.5462 sec/batch\n",
      "Epoch: 1/2...  Training Step: 2100...  Training loss: 0.3599...  0.6197 sec/batch\n",
      "Epoch: 1/2...  Training Step: 2150...  Training loss: 0.2147...  0.3957 sec/batch\n",
      "Epoch: 1/2...  Training Step: 2200...  Training loss: 0.3529...  0.5737 sec/batch\n",
      "Epoch: 1/2...  Training Step: 2250...  Training loss: 0.1841...  0.6223 sec/batch\n",
      "Epoch: 1/2...  Training Step: 2300...  Training loss: 0.2659...  0.7367 sec/batch\n",
      "Epoch: 1/2...  Training Step: 2350...  Training loss: 0.1946...  0.9699 sec/batch\n",
      "Epoch: 1/2...  Training Step: 2400...  Training loss: 0.3636...  0.5281 sec/batch\n",
      "Epoch: 1/2...  Training Step: 2450...  Training loss: 0.1981...  0.8096 sec/batch\n",
      "Epoch: 1/2...  Training Step: 2500...  Training loss: 0.2673...  0.7837 sec/batch\n",
      "Epoch: 1/2...  Training Step: 2550...  Training loss: 0.3545...  0.8821 sec/batch\n",
      "Epoch: 1/2...  Training Step: 2600...  Training loss: 0.2572...  0.9981 sec/batch\n",
      "Epoch: 1/2...  Training Step: 2650...  Training loss: 0.2564...  1.0664 sec/batch\n",
      "Epoch: 1/2...  Training Step: 2700...  Training loss: 0.4026...  0.7277 sec/batch\n",
      "Epoch: 1/2...  Training Step: 2750...  Training loss: 0.2988...  0.7767 sec/batch\n",
      "Epoch: 1/2...  Training Step: 2800...  Training loss: 0.3732...  1.0187 sec/batch\n",
      "Epoch: 1/2...  Training Step: 2850...  Training loss: 0.2043...  0.9077 sec/batch\n",
      "Epoch: 1/2...  Training Step: 2900...  Training loss: 0.1794...  1.0706 sec/batch\n",
      "Epoch: 1/2...  Training Step: 2950...  Training loss: 0.1929...  1.0209 sec/batch\n",
      "Epoch: 1/2...  Training Step: 3000...  Training loss: 0.2305...  1.0926 sec/batch\n",
      "Epoch: 1/2...  Training Step: 3050...  Training loss: 0.4051...  1.0287 sec/batch\n",
      "Epoch: 1/2...  Training Step: 3100...  Training loss: 0.3317...  0.8828 sec/batch\n",
      "Epoch: 1/2...  Training Step: 3150...  Training loss: 0.2652...  1.0877 sec/batch\n",
      "Epoch: 1/2...  Training Step: 3200...  Training loss: 0.3007...  1.0913 sec/batch\n",
      "Epoch: 1/2...  Training Step: 3250...  Training loss: 0.2227...  0.8759 sec/batch\n",
      "Epoch: 1/2...  Training Step: 3300...  Training loss: 0.3543...  1.1807 sec/batch\n",
      "Epoch: 1/2...  Training Step: 3350...  Training loss: 0.1870...  1.3050 sec/batch\n",
      "Epoch: 1/2...  Training Step: 3400...  Training loss: 0.1696...  1.4295 sec/batch\n",
      "Epoch: 2/2...  Training Step: 3450...  Training loss: 0.2688...  1.2803 sec/batch\n",
      "Epoch: 2/2...  Training Step: 3500...  Training loss: 0.2670...  1.1813 sec/batch\n",
      "Epoch: 2/2...  Training Step: 3550...  Training loss: 0.3534...  0.9066 sec/batch\n",
      "Epoch: 2/2...  Training Step: 3600...  Training loss: 0.3717...  1.1707 sec/batch\n",
      "Epoch: 2/2...  Training Step: 3650...  Training loss: 0.3140...  0.8568 sec/batch\n",
      "Epoch: 2/2...  Training Step: 3700...  Training loss: 0.3414...  1.1586 sec/batch\n",
      "Epoch: 2/2...  Training Step: 3750...  Training loss: 0.2253...  0.8726 sec/batch\n",
      "Epoch: 2/2...  Training Step: 3800...  Training loss: 0.2432...  0.7277 sec/batch\n",
      "Epoch: 2/2...  Training Step: 3850...  Training loss: 0.2403...  0.8281 sec/batch\n",
      "Epoch: 2/2...  Training Step: 3900...  Training loss: 0.3092...  1.3476 sec/batch\n",
      "Epoch: 2/2...  Training Step: 3950...  Training loss: 0.2547...  0.9243 sec/batch\n",
      "Epoch: 2/2...  Training Step: 4000...  Training loss: 0.2427...  1.3585 sec/batch\n",
      "Epoch: 2/2...  Training Step: 4050...  Training loss: 0.2347...  0.9343 sec/batch\n",
      "Epoch: 2/2...  Training Step: 4100...  Training loss: 0.2646...  1.1269 sec/batch\n",
      "Epoch: 2/2...  Training Step: 4150...  Training loss: 0.2826...  1.0578 sec/batch\n",
      "Epoch: 2/2...  Training Step: 4200...  Training loss: 0.2671...  0.8833 sec/batch\n",
      "Epoch: 2/2...  Training Step: 4250...  Training loss: 0.2568...  1.3089 sec/batch\n",
      "Epoch: 2/2...  Training Step: 4300...  Training loss: 0.2599...  1.1668 sec/batch\n",
      "Epoch: 2/2...  Training Step: 4350...  Training loss: 0.4265...  1.4750 sec/batch\n",
      "Epoch: 2/2...  Training Step: 4400...  Training loss: 0.3296...  1.3401 sec/batch\n",
      "Epoch: 2/2...  Training Step: 4450...  Training loss: 0.2051...  1.3047 sec/batch\n",
      "Epoch: 2/2...  Training Step: 4500...  Training loss: 0.3260...  1.1020 sec/batch\n",
      "Epoch: 2/2...  Training Step: 4550...  Training loss: 0.2432...  1.5567 sec/batch\n",
      "Epoch: 2/2...  Training Step: 4600...  Training loss: 0.1778...  1.4258 sec/batch\n",
      "Epoch: 2/2...  Training Step: 4650...  Training loss: 0.2251...  1.6641 sec/batch\n",
      "Epoch: 2/2...  Training Step: 4700...  Training loss: 0.2407...  1.4863 sec/batch\n",
      "Epoch: 2/2...  Training Step: 4750...  Training loss: 0.2810...  1.1739 sec/batch\n"
     ]
    },
    {
     "name": "stdout",
     "output_type": "stream",
     "text": [
      "Epoch: 2/2...  Training Step: 4800...  Training loss: 0.1413...  1.6561 sec/batch\n",
      "Epoch: 2/2...  Training Step: 4850...  Training loss: 0.2338...  1.3958 sec/batch\n",
      "Epoch: 2/2...  Training Step: 4900...  Training loss: 0.2830...  1.7119 sec/batch\n",
      "Epoch: 2/2...  Training Step: 4950...  Training loss: 0.3377...  2.0090 sec/batch\n",
      "Epoch: 2/2...  Training Step: 5000...  Training loss: 0.2676...  1.5489 sec/batch\n",
      "Epoch: 2/2...  Training Step: 5050...  Training loss: 0.2968...  1.8679 sec/batch\n",
      "Epoch: 2/2...  Training Step: 5100...  Training loss: 0.2399...  1.9309 sec/batch\n",
      "Epoch: 2/2...  Training Step: 5150...  Training loss: 0.2431...  1.7292 sec/batch\n",
      "Epoch: 2/2...  Training Step: 5200...  Training loss: 0.2773...  1.3986 sec/batch\n",
      "Epoch: 2/2...  Training Step: 5250...  Training loss: 0.2599...  1.6333 sec/batch\n",
      "Epoch: 2/2...  Training Step: 5300...  Training loss: 0.2567...  1.2698 sec/batch\n",
      "Epoch: 2/2...  Training Step: 5350...  Training loss: 0.2095...  1.3624 sec/batch\n",
      "Epoch: 2/2...  Training Step: 5400...  Training loss: 0.3093...  1.6552 sec/batch\n",
      "Epoch: 2/2...  Training Step: 5450...  Training loss: 0.3300...  1.9908 sec/batch\n",
      "Epoch: 2/2...  Training Step: 5500...  Training loss: 0.2182...  1.3263 sec/batch\n",
      "Epoch: 2/2...  Training Step: 5550...  Training loss: 0.2717...  1.9178 sec/batch\n",
      "Epoch: 2/2...  Training Step: 5600...  Training loss: 0.2319...  1.9470 sec/batch\n",
      "Epoch: 2/2...  Training Step: 5650...  Training loss: 0.2107...  1.9760 sec/batch\n",
      "Epoch: 2/2...  Training Step: 5700...  Training loss: 0.2450...  1.7452 sec/batch\n",
      "Epoch: 2/2...  Training Step: 5750...  Training loss: 0.3519...  1.9004 sec/batch\n",
      "Epoch: 2/2...  Training Step: 5800...  Training loss: 0.1849...  1.7139 sec/batch\n",
      "Epoch: 2/2...  Training Step: 5850...  Training loss: 0.2713...  1.8112 sec/batch\n",
      "Epoch: 2/2...  Training Step: 5900...  Training loss: 0.2743...  1.9867 sec/batch\n",
      "Epoch: 2/2...  Training Step: 5950...  Training loss: 0.1446...  1.8307 sec/batch\n",
      "Epoch: 2/2...  Training Step: 6000...  Training loss: 0.2887...  1.4137 sec/batch\n",
      "Epoch: 2/2...  Training Step: 6050...  Training loss: 0.3374...  1.3665 sec/batch\n",
      "Epoch: 2/2...  Training Step: 6100...  Training loss: 0.1766...  1.7770 sec/batch\n",
      "Epoch: 2/2...  Training Step: 6150...  Training loss: 0.3321...  1.6459 sec/batch\n",
      "Epoch: 2/2...  Training Step: 6200...  Training loss: 0.2702...  2.0590 sec/batch\n",
      "Epoch: 2/2...  Training Step: 6250...  Training loss: 0.1905...  1.2637 sec/batch\n",
      "Epoch: 2/2...  Training Step: 6300...  Training loss: 0.4070...  1.2870 sec/batch\n",
      "Epoch: 2/2...  Training Step: 6350...  Training loss: 0.1728...  2.0872 sec/batch\n",
      "Epoch: 2/2...  Training Step: 6400...  Training loss: 0.3028...  1.7349 sec/batch\n",
      "Epoch: 2/2...  Training Step: 6450...  Training loss: 0.2023...  1.5767 sec/batch\n",
      "Epoch: 2/2...  Training Step: 6500...  Training loss: 0.3214...  1.5134 sec/batch\n",
      "Epoch: 2/2...  Training Step: 6550...  Training loss: 0.3089...  2.1917 sec/batch\n",
      "Epoch: 2/2...  Training Step: 6600...  Training loss: 0.1804...  1.4598 sec/batch\n",
      "Epoch: 2/2...  Training Step: 6650...  Training loss: 0.1904...  1.7569 sec/batch\n",
      "Epoch: 2/2...  Training Step: 6700...  Training loss: 0.2468...  2.1311 sec/batch\n",
      "Epoch: 2/2...  Training Step: 6750...  Training loss: 0.3038...  2.0402 sec/batch\n",
      "Epoch: 2/2...  Training Step: 6800...  Training loss: 0.2730...  1.6712 sec/batch\n"
     ]
    }
   ],
   "source": [
    "epochs = 2\n",
    "# Print losses every N interations\n",
    "print_every_n = 50\n",
    "\n",
    "# Save every N iterations\n",
    "save_every_n = 200\n",
    "\n",
    "model = MobilityRNN(4, batch_size=batch_size, num_steps=num_steps,\n",
    "                lstm_size=lstm_size, num_layers=num_layers, \n",
    "                learning_rate=learning_rate)\n",
    "\n",
    "if not os.path.exists('summaries'):\n",
    "    os.mkdir('summaries')\n",
    "if not os.path.exists(os.path.join('summaries','first')):\n",
    "    os.mkdir(os.path.join('summaries','first'))\n",
    "    \n",
    "saver = tf.train.Saver(max_to_keep=100)\n",
    "with tf.Session() as sess:\n",
    "    sess.run(tf.global_variables_initializer())\n",
    "    summ_writer = tf.summary.FileWriter(os.path.join('summaries','first'), sess.graph)\n",
    "#     # Use the line below to load a checkpoint and resume training\n",
    "#     #saver.restore(sess, 'checkpoints/______.ckpt')\n",
    "    counter = 0\n",
    "    for e in range(epochs):\n",
    "#         # Train network\n",
    "        new_state = sess.run(model.initial_state)\n",
    "        loss = 0\n",
    "        batch_loss_per_epoch = list()\n",
    "        for x1, y1 in get_batches(X_train,y_train, batch_size, num_steps):\n",
    "            counter += 1\n",
    "            start = time.time()\n",
    "            feed = {model.inputs: x1[:,:,:6],\n",
    "                    model.inputs_id: x1[:,:,6].reshape(10,10,1),\n",
    "                    model.inputs_m: x1[:,:,-1].reshape(10,10,1),\n",
    "                    model.inputs_h: x1[:,:,7].reshape(10,10,1),\n",
    "                    model.inputs_w: x1[:,:,8].reshape(10,10,1),\n",
    "                    model.targets: y1,\n",
    "                    model.keep_prob: keep_prob,\n",
    "                    model.initial_state: new_state}\n",
    "\n",
    "            merge = tf.summary.merge_all()\n",
    "            \n",
    "            summary,batch_loss, new_state, _ = sess.run([merge,model.loss, \n",
    "                                                 model.final_state, \n",
    "                                                 model.optimizer], \n",
    "                                                 feed_dict=feed)\n",
    "            \n",
    "            summ_writer.add_summary(summary, counter)\n",
    "            \n",
    "            batch_loss_per_epoch.append(batch_loss)\n",
    "            if (counter % print_every_n == 0):\n",
    "                end = time.time()\n",
    "                print('Epoch: {}/{}... '.format(e+1, epochs),\n",
    "                      'Training Step: {}... '.format(counter),\n",
    "                      'Training loss: {:.4f}... '.format(batch_loss),\n",
    "                      '{:.4f} sec/batch'.format((end-start)))\n",
    "        \n",
    "            if (counter % save_every_n == 0):\n",
    "                saver.save(sess, \"checkpoints/i{}_l{}.ckpt\".format(counter, lstm_size))\n",
    "        \n",
    "    saver.save(sess, \"checkpoints/i{}_l{}.ckpt\".format(counter, lstm_size))"
   ]
  },
  {
   "cell_type": "code",
   "execution_count": 29,
   "metadata": {},
   "outputs": [
    {
     "data": {
      "text/plain": [
       "model_checkpoint_path: \"checkpoints/i6834_l64.ckpt\"\n",
       "all_model_checkpoint_paths: \"checkpoints/i200_l64.ckpt\"\n",
       "all_model_checkpoint_paths: \"checkpoints/i400_l64.ckpt\"\n",
       "all_model_checkpoint_paths: \"checkpoints/i600_l64.ckpt\"\n",
       "all_model_checkpoint_paths: \"checkpoints/i800_l64.ckpt\"\n",
       "all_model_checkpoint_paths: \"checkpoints/i1000_l64.ckpt\"\n",
       "all_model_checkpoint_paths: \"checkpoints/i1200_l64.ckpt\"\n",
       "all_model_checkpoint_paths: \"checkpoints/i1400_l64.ckpt\"\n",
       "all_model_checkpoint_paths: \"checkpoints/i1600_l64.ckpt\"\n",
       "all_model_checkpoint_paths: \"checkpoints/i1800_l64.ckpt\"\n",
       "all_model_checkpoint_paths: \"checkpoints/i2000_l64.ckpt\"\n",
       "all_model_checkpoint_paths: \"checkpoints/i2200_l64.ckpt\"\n",
       "all_model_checkpoint_paths: \"checkpoints/i2400_l64.ckpt\"\n",
       "all_model_checkpoint_paths: \"checkpoints/i2600_l64.ckpt\"\n",
       "all_model_checkpoint_paths: \"checkpoints/i2800_l64.ckpt\"\n",
       "all_model_checkpoint_paths: \"checkpoints/i3000_l64.ckpt\"\n",
       "all_model_checkpoint_paths: \"checkpoints/i3200_l64.ckpt\"\n",
       "all_model_checkpoint_paths: \"checkpoints/i3400_l64.ckpt\"\n",
       "all_model_checkpoint_paths: \"checkpoints/i3600_l64.ckpt\"\n",
       "all_model_checkpoint_paths: \"checkpoints/i3800_l64.ckpt\"\n",
       "all_model_checkpoint_paths: \"checkpoints/i4000_l64.ckpt\"\n",
       "all_model_checkpoint_paths: \"checkpoints/i4200_l64.ckpt\"\n",
       "all_model_checkpoint_paths: \"checkpoints/i4400_l64.ckpt\"\n",
       "all_model_checkpoint_paths: \"checkpoints/i4600_l64.ckpt\"\n",
       "all_model_checkpoint_paths: \"checkpoints/i4800_l64.ckpt\"\n",
       "all_model_checkpoint_paths: \"checkpoints/i5000_l64.ckpt\"\n",
       "all_model_checkpoint_paths: \"checkpoints/i5200_l64.ckpt\"\n",
       "all_model_checkpoint_paths: \"checkpoints/i5400_l64.ckpt\"\n",
       "all_model_checkpoint_paths: \"checkpoints/i5600_l64.ckpt\"\n",
       "all_model_checkpoint_paths: \"checkpoints/i5800_l64.ckpt\"\n",
       "all_model_checkpoint_paths: \"checkpoints/i6000_l64.ckpt\"\n",
       "all_model_checkpoint_paths: \"checkpoints/i6200_l64.ckpt\"\n",
       "all_model_checkpoint_paths: \"checkpoints/i6400_l64.ckpt\"\n",
       "all_model_checkpoint_paths: \"checkpoints/i6600_l64.ckpt\"\n",
       "all_model_checkpoint_paths: \"checkpoints/i6800_l64.ckpt\"\n",
       "all_model_checkpoint_paths: \"checkpoints/i6834_l64.ckpt\""
      ]
     },
     "execution_count": 29,
     "metadata": {},
     "output_type": "execute_result"
    }
   ],
   "source": [
    "tf.train.get_checkpoint_state('checkpoints')"
   ]
  },
  {
   "cell_type": "markdown",
   "metadata": {},
   "source": [
    "### Testing the model"
   ]
  },
  {
   "cell_type": "code",
   "execution_count": 30,
   "metadata": {},
   "outputs": [],
   "source": [
    "def sample(checkpoint,lstm_size):\n",
    "    model = MobilityRNN(4,batch_size=10, num_steps=10 ,lstm_size=lstm_size,num_layers=1, sampling=True)\n",
    "    saver = tf.train.Saver()\n",
    "    predictions = list()\n",
    "    labels_list = list()\n",
    "    with tf.Session() as sess:\n",
    "        saver.restore(sess, checkpoint)\n",
    "        new_state = sess.run(model.initial_state)\n",
    "        for x1,y1 in get_batches(X_test,y_test,10,10):\n",
    "            feed = {model.inputs: x1[:,:,:6],\n",
    "                    model.inputs_id: x1[:,:,6].reshape(10,10,1),\n",
    "                    model.inputs_m: x1[:,:,-1].reshape(10,10,1),\n",
    "                    model.inputs_h: x1[:,:,7].reshape(10,10,1),\n",
    "                    model.inputs_w: x1[:,:,8].reshape(10,10,1),\n",
    "                    model.keep_prob: 1.,\n",
    "                    model.initial_state: new_state}\n",
    "            preds, new_state = sess.run([model.prediction, model.final_state], \n",
    "                                         feed_dict=feed)\n",
    "            predictions.append(preds)\n",
    "            labels_list.append(y1)\n",
    "    return predictions, labels_list"
   ]
  },
  {
   "cell_type": "code",
   "execution_count": 31,
   "metadata": {},
   "outputs": [
    {
     "name": "stdout",
     "output_type": "stream",
     "text": [
      "Tensor(\"concat_1:0\", shape=(100, 104), dtype=float32)\n",
      "WARNING:tensorflow:From <ipython-input-24-3fd95a9bdaf3>:18: softmax_cross_entropy_with_logits (from tensorflow.python.ops.nn_ops) is deprecated and will be removed in a future version.\n",
      "Instructions for updating:\n",
      "\n",
      "Future major versions of TensorFlow will allow gradients to flow\n",
      "into the labels input on backprop by default.\n",
      "\n",
      "See tf.nn.softmax_cross_entropy_with_logits_v2.\n",
      "\n",
      "INFO:tensorflow:Restoring parameters from checkpoints/i6834_l64.ckpt\n"
     ]
    }
   ],
   "source": [
    "checkpoint = tf.train.latest_checkpoint('checkpoints')\n",
    "samp, y_test_batches = sample(checkpoint,lstm_size)"
   ]
  },
  {
   "cell_type": "code",
   "execution_count": 57,
   "metadata": {},
   "outputs": [],
   "source": [
    "import warnings\n",
    "warnings.filterwarnings(\"ignore\")\n",
    "def inverse_transform(data, batch=False, reshape=100):\n",
    "    classes = list()\n",
    "    for items in data:\n",
    "        if not batch:\n",
    "            label_idx = np.argmax(items, axis=1).tolist()\n",
    "            list_inverse = list(le.inverse_transform(label_idx))\n",
    "            classes += list_inverse\n",
    "        else:\n",
    "            classes += list(le.inverse_transform(items.reshape(reshape,)))\n",
    "    return classes\n",
    "predict = inverse_transform(samp)\n",
    "y_test_transformed = inverse_transform(y_test_batches,True)"
   ]
  },
  {
   "cell_type": "code",
   "execution_count": 58,
   "metadata": {},
   "outputs": [
    {
     "data": {
      "text/plain": [
       "(85400, 85400)"
      ]
     },
     "execution_count": 58,
     "metadata": {},
     "output_type": "execute_result"
    }
   ],
   "source": [
    "len(predict),len(y_test_transformed)"
   ]
  },
  {
   "cell_type": "code",
   "execution_count": 61,
   "metadata": {},
   "outputs": [],
   "source": [
    "matrix = confusion_matrix(y_test_transformed,predict)"
   ]
  },
  {
   "cell_type": "code",
   "execution_count": 62,
   "metadata": {},
   "outputs": [],
   "source": [
    "def plot_confusion_matrix(cm, classes,\n",
    "                          normalize=False,\n",
    "                          title='Confusion matrix',\n",
    "                          cmap=plt.cm.Blues):\n",
    "    \"\"\"\n",
    "    This function prints and plots the confusion matrix.\n",
    "    Normalization can be applied by setting `normalize=True`.\n",
    "    \"\"\"\n",
    "    if normalize:\n",
    "        cm = cm.astype('float') / cm.sum(axis=1)[:, np.newaxis]\n",
    "        print(\"Normalized confusion matrix\")\n",
    "    else:\n",
    "        print('Confusion matrix, without normalization')\n",
    "\n",
    "    print(cm)\n",
    "\n",
    "    plt.imshow(cm, interpolation='nearest', cmap=cmap)\n",
    "    plt.title(title)\n",
    "    plt.colorbar()\n",
    "    tick_marks = np.arange(len(classes))\n",
    "    plt.xticks(tick_marks, classes, rotation=45)\n",
    "    plt.yticks(tick_marks, classes)\n",
    "\n",
    "    fmt = '.2f' if normalize else 'd'\n",
    "    thresh = cm.max() / 2.\n",
    "    for i, j in itertools.product(range(cm.shape[0]), range(cm.shape[1])):\n",
    "        plt.text(j, i, format(cm[i, j], fmt),\n",
    "                 horizontalalignment=\"center\",\n",
    "                 color=\"white\" if cm[i, j] > thresh else \"black\")\n",
    "\n",
    "    plt.ylabel('True label')\n",
    "    plt.xlabel('Predicted label')\n",
    "    plt.tight_layout()"
   ]
  },
  {
   "cell_type": "code",
   "execution_count": 64,
   "metadata": {},
   "outputs": [
    {
     "name": "stdout",
     "output_type": "stream",
     "text": [
      "Confusion matrix, without normalization\n",
      "[[ 6258  1207   757   118]\n",
      " [  731 65023  2053    92]\n",
      " [  510  1528  3924    73]\n",
      " [ 1714   749   467   196]]\n"
     ]
    },
    {
     "data": {
      "image/png": "[encoded data removed]",
      "text/plain": [
       "<Figure size 432x288 with 2 Axes>"
      ]
     },
     "metadata": {
      "needs_background": "light"
     },
     "output_type": "display_data"
    }
   ],
   "source": [
    "plot_confusion_matrix(matrix,np.unique(y_test_transformed))"
   ]
  },
  {
   "cell_type": "code",
   "execution_count": null,
   "metadata": {},
   "outputs": [],
   "source": []
  }
 ],
 "metadata": {
  "kernelspec": {
   "display_name": "Python 3",
   "language": "python",
   "name": "python3"
  },
  "language_info": {
   "codemirror_mode": {
    "name": "ipython",
    "version": 3
   },
   "file_extension": ".py",
   "mimetype": "text/x-python",
   "name": "python",
   "nbconvert_exporter": "python",
   "pygments_lexer": "ipython3",
   "version": "3.6.6"
  }
 },
 "nbformat": 4,
 "nbformat_minor": 2
}
