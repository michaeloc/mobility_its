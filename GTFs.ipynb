{
 "cells": [
  {
   "cell_type": "code",
   "execution_count": 24,
   "metadata": {},
   "outputs": [],
   "source": [
    "import pandas as pd\n",
    "import preprocess as prep\n",
    "from tqdm import tqdm\n",
    "import numpy as np\n",
    "import gmplot.gmplot"
   ]
  },
  {
   "cell_type": "code",
   "execution_count": 77,
   "metadata": {},
   "outputs": [],
   "source": [
    "routes_data = pd.read_csv('GTFSjaneiro/routes.txt')\n",
    "stops_data = pd.read_csv('GTFSjaneiro/stops.txt')\n",
    "ctm_stops_data = pd.read_csv('CTMGrandeRecife_RuasParadasOnibus_dado2.csv')"
   ]
  },
  {
   "cell_type": "code",
   "execution_count": 78,
   "metadata": {},
   "outputs": [],
   "source": [
    "data = pd.read_csv('data-100000.csv',delimiter=',', float_precision=None)"
   ]
  },
  {
   "cell_type": "code",
   "execution_count": 79,
   "metadata": {},
   "outputs": [],
   "source": [
    "matricula_idx = data.matricula_id =='KGR8167'"
   ]
  },
  {
   "cell_type": "code",
   "execution_count": 80,
   "metadata": {},
   "outputs": [],
   "source": [
    "matricula_example = data[matricula_idx]"
   ]
  },
  {
   "cell_type": "code",
   "execution_count": 81,
   "metadata": {},
   "outputs": [],
   "source": [
    "prepro = prep.PreProcess()"
   ]
  },
  {
   "cell_type": "code",
   "execution_count": 82,
   "metadata": {},
   "outputs": [
    {
     "name": "stderr",
     "output_type": "stream",
     "text": [
      "50164it [4:02:10,  1.04it/s]"
     ]
    },
    {
     "ename": "KeyboardInterrupt",
     "evalue": "",
     "output_type": "error",
     "traceback": [
      "\u001b[0;31m---------------------------------------------------------------------------\u001b[0m",
      "\u001b[0;31mKeyboardInterrupt\u001b[0m                         Traceback (most recent call last)",
      "\u001b[0;32m<ipython-input-82-1f1782b9e116>\u001b[0m in \u001b[0;36m<module>\u001b[0;34m()\u001b[0m\n\u001b[1;32m      3\u001b[0m     \u001b[0;32mif\u001b[0m \u001b[0mrow\u001b[0m\u001b[0;34m.\u001b[0m\u001b[0mvelocidade\u001b[0m \u001b[0;34m<\u001b[0m \u001b[0;36m5\u001b[0m\u001b[0;34m:\u001b[0m\u001b[0;34m\u001b[0m\u001b[0m\n\u001b[1;32m      4\u001b[0m         \u001b[0;32mfor\u001b[0m \u001b[0midx2\u001b[0m\u001b[0;34m,\u001b[0m\u001b[0mstop\u001b[0m \u001b[0;32min\u001b[0m \u001b[0mstops_data\u001b[0m\u001b[0;34m.\u001b[0m\u001b[0miterrows\u001b[0m\u001b[0;34m(\u001b[0m\u001b[0;34m)\u001b[0m\u001b[0;34m:\u001b[0m\u001b[0;34m\u001b[0m\u001b[0m\n\u001b[0;32m----> 5\u001b[0;31m             \u001b[0mdist\u001b[0m \u001b[0;34m=\u001b[0m \u001b[0mprepro\u001b[0m\u001b[0;34m.\u001b[0m\u001b[0mdistance_in_meters\u001b[0m\u001b[0;34m(\u001b[0m\u001b[0;34m[\u001b[0m\u001b[0mrow\u001b[0m\u001b[0;34m.\u001b[0m\u001b[0mlat\u001b[0m\u001b[0;34m,\u001b[0m\u001b[0mrow\u001b[0m\u001b[0;34m.\u001b[0m\u001b[0mlng\u001b[0m\u001b[0;34m]\u001b[0m\u001b[0;34m,\u001b[0m \u001b[0;34m[\u001b[0m\u001b[0mstop\u001b[0m\u001b[0;34m.\u001b[0m\u001b[0mstop_lat\u001b[0m\u001b[0;34m,\u001b[0m\u001b[0mstop\u001b[0m\u001b[0;34m.\u001b[0m\u001b[0mstop_lon\u001b[0m\u001b[0;34m]\u001b[0m\u001b[0;34m)\u001b[0m\u001b[0;34m\u001b[0m\u001b[0m\n\u001b[0m\u001b[1;32m      6\u001b[0m             \u001b[0;32mif\u001b[0m \u001b[0mdist\u001b[0m \u001b[0;34m<\u001b[0m\u001b[0;36m20\u001b[0m\u001b[0;34m:\u001b[0m\u001b[0;34m\u001b[0m\u001b[0m\n\u001b[1;32m      7\u001b[0m \u001b[0;31m#                 print('Finded points:{0}'.format([row.lat,row.lng]))\u001b[0m\u001b[0;34m\u001b[0m\u001b[0;34m\u001b[0m\u001b[0m\n",
      "\u001b[0;32m~/Documents/Doutorado/Análise dados/preprocess.py\u001b[0m in \u001b[0;36mdistance_in_meters\u001b[0;34m(self, x, y)\u001b[0m\n\u001b[1;32m    112\u001b[0m \u001b[0;34m\u001b[0m\u001b[0m\n\u001b[1;32m    113\u001b[0m     \u001b[0;32mdef\u001b[0m \u001b[0mdistance_in_meters\u001b[0m\u001b[0;34m(\u001b[0m\u001b[0mself\u001b[0m\u001b[0;34m,\u001b[0m\u001b[0mx\u001b[0m\u001b[0;34m,\u001b[0m\u001b[0my\u001b[0m\u001b[0;34m)\u001b[0m\u001b[0;34m:\u001b[0m\u001b[0;34m\u001b[0m\u001b[0m\n\u001b[0;32m--> 114\u001b[0;31m         \u001b[0;32mreturn\u001b[0m \u001b[0mself\u001b[0m\u001b[0;34m.\u001b[0m\u001b[0mvincenty\u001b[0m\u001b[0;34m(\u001b[0m\u001b[0;34m(\u001b[0m\u001b[0mx\u001b[0m\u001b[0;34m[\u001b[0m\u001b[0;36m0\u001b[0m\u001b[0;34m]\u001b[0m\u001b[0;34m,\u001b[0m\u001b[0mx\u001b[0m\u001b[0;34m[\u001b[0m\u001b[0;36m1\u001b[0m\u001b[0;34m]\u001b[0m\u001b[0;34m)\u001b[0m\u001b[0;34m,\u001b[0m\u001b[0;34m(\u001b[0m\u001b[0my\u001b[0m\u001b[0;34m[\u001b[0m\u001b[0;36m0\u001b[0m\u001b[0;34m]\u001b[0m\u001b[0;34m,\u001b[0m\u001b[0my\u001b[0m\u001b[0;34m[\u001b[0m\u001b[0;36m1\u001b[0m\u001b[0;34m]\u001b[0m\u001b[0;34m)\u001b[0m\u001b[0;34m)\u001b[0m\u001b[0;34m.\u001b[0m\u001b[0mm\u001b[0m\u001b[0;34m\u001b[0m\u001b[0m\n\u001b[0m\u001b[1;32m    115\u001b[0m \u001b[0;34m\u001b[0m\u001b[0m\n\u001b[1;32m    116\u001b[0m     \u001b[0;32mdef\u001b[0m \u001b[0mcalculate_distance_matrix\u001b[0m\u001b[0;34m(\u001b[0m\u001b[0mself\u001b[0m\u001b[0;34m,\u001b[0m\u001b[0mdata\u001b[0m\u001b[0;34m)\u001b[0m\u001b[0;34m:\u001b[0m\u001b[0;34m\u001b[0m\u001b[0m\n",
      "\u001b[0;32m/anaconda3/envs/env_scikit-learn/lib/python3.6/site-packages/geopy/distance.py\u001b[0m in \u001b[0;36m__init__\u001b[0;34m(self, *args, **kwargs)\u001b[0m\n\u001b[1;32m    494\u001b[0m         \u001b[0mself\u001b[0m\u001b[0;34m.\u001b[0m\u001b[0miterations\u001b[0m \u001b[0;34m=\u001b[0m \u001b[0mkwargs\u001b[0m\u001b[0;34m.\u001b[0m\u001b[0mpop\u001b[0m\u001b[0;34m(\u001b[0m\u001b[0;34m'iterations'\u001b[0m\u001b[0;34m,\u001b[0m \u001b[0;36m20\u001b[0m\u001b[0;34m)\u001b[0m\u001b[0;34m\u001b[0m\u001b[0m\n\u001b[1;32m    495\u001b[0m         \u001b[0mmajor\u001b[0m\u001b[0;34m,\u001b[0m \u001b[0mminor\u001b[0m\u001b[0;34m,\u001b[0m \u001b[0mf\u001b[0m \u001b[0;34m=\u001b[0m \u001b[0mself\u001b[0m\u001b[0;34m.\u001b[0m\u001b[0mELLIPSOID\u001b[0m\u001b[0;34m\u001b[0m\u001b[0m\n\u001b[0;32m--> 496\u001b[0;31m         \u001b[0msuper\u001b[0m\u001b[0;34m(\u001b[0m\u001b[0mvincenty\u001b[0m\u001b[0;34m,\u001b[0m \u001b[0mself\u001b[0m\u001b[0;34m)\u001b[0m\u001b[0;34m.\u001b[0m\u001b[0m__init__\u001b[0m\u001b[0;34m(\u001b[0m\u001b[0;34m*\u001b[0m\u001b[0margs\u001b[0m\u001b[0;34m,\u001b[0m \u001b[0;34m**\u001b[0m\u001b[0mkwargs\u001b[0m\u001b[0;34m)\u001b[0m\u001b[0;34m\u001b[0m\u001b[0m\n\u001b[0m\u001b[1;32m    497\u001b[0m \u001b[0;34m\u001b[0m\u001b[0m\n\u001b[1;32m    498\u001b[0m     \u001b[0;32mdef\u001b[0m \u001b[0mset_ellipsoid\u001b[0m\u001b[0;34m(\u001b[0m\u001b[0mself\u001b[0m\u001b[0;34m,\u001b[0m \u001b[0mellipsoid\u001b[0m\u001b[0;34m)\u001b[0m\u001b[0;34m:\u001b[0m\u001b[0;34m\u001b[0m\u001b[0m\n",
      "\u001b[0;32m/anaconda3/envs/env_scikit-learn/lib/python3.6/site-packages/geopy/distance.py\u001b[0m in \u001b[0;36m__init__\u001b[0;34m(self, *args, **kwargs)\u001b[0m\n\u001b[1;32m    162\u001b[0m         \u001b[0;32melif\u001b[0m \u001b[0mlen\u001b[0m\u001b[0;34m(\u001b[0m\u001b[0margs\u001b[0m\u001b[0;34m)\u001b[0m \u001b[0;34m>\u001b[0m \u001b[0;36m1\u001b[0m\u001b[0;34m:\u001b[0m\u001b[0;34m\u001b[0m\u001b[0m\n\u001b[1;32m    163\u001b[0m             \u001b[0;32mfor\u001b[0m \u001b[0ma\u001b[0m\u001b[0;34m,\u001b[0m \u001b[0mb\u001b[0m \u001b[0;32min\u001b[0m \u001b[0mutil\u001b[0m\u001b[0;34m.\u001b[0m\u001b[0mpairwise\u001b[0m\u001b[0;34m(\u001b[0m\u001b[0margs\u001b[0m\u001b[0;34m)\u001b[0m\u001b[0;34m:\u001b[0m\u001b[0;34m\u001b[0m\u001b[0m\n\u001b[0;32m--> 164\u001b[0;31m                 \u001b[0mkilometers\u001b[0m \u001b[0;34m+=\u001b[0m \u001b[0mself\u001b[0m\u001b[0;34m.\u001b[0m\u001b[0mmeasure\u001b[0m\u001b[0;34m(\u001b[0m\u001b[0ma\u001b[0m\u001b[0;34m,\u001b[0m \u001b[0mb\u001b[0m\u001b[0;34m)\u001b[0m\u001b[0;34m\u001b[0m\u001b[0m\n\u001b[0m\u001b[1;32m    165\u001b[0m \u001b[0;34m\u001b[0m\u001b[0m\n\u001b[1;32m    166\u001b[0m         \u001b[0mkilometers\u001b[0m \u001b[0;34m+=\u001b[0m \u001b[0munits\u001b[0m\u001b[0;34m.\u001b[0m\u001b[0mkilometers\u001b[0m\u001b[0;34m(\u001b[0m\u001b[0;34m**\u001b[0m\u001b[0mkwargs\u001b[0m\u001b[0;34m)\u001b[0m\u001b[0;34m\u001b[0m\u001b[0m\n",
      "\u001b[0;32m/anaconda3/envs/env_scikit-learn/lib/python3.6/site-packages/geopy/distance.py\u001b[0m in \u001b[0;36mmeasure\u001b[0;34m(self, a, b)\u001b[0m\n\u001b[1;32m    514\u001b[0m \u001b[0;34m\u001b[0m\u001b[0m\n\u001b[1;32m    515\u001b[0m     \u001b[0;32mdef\u001b[0m \u001b[0mmeasure\u001b[0m\u001b[0;34m(\u001b[0m\u001b[0mself\u001b[0m\u001b[0;34m,\u001b[0m \u001b[0ma\u001b[0m\u001b[0;34m,\u001b[0m \u001b[0mb\u001b[0m\u001b[0;34m)\u001b[0m\u001b[0;34m:\u001b[0m\u001b[0;34m\u001b[0m\u001b[0m\n\u001b[0;32m--> 516\u001b[0;31m         \u001b[0ma\u001b[0m\u001b[0;34m,\u001b[0m \u001b[0mb\u001b[0m \u001b[0;34m=\u001b[0m \u001b[0mPoint\u001b[0m\u001b[0;34m(\u001b[0m\u001b[0ma\u001b[0m\u001b[0;34m)\u001b[0m\u001b[0;34m,\u001b[0m \u001b[0mPoint\u001b[0m\u001b[0;34m(\u001b[0m\u001b[0mb\u001b[0m\u001b[0;34m)\u001b[0m\u001b[0;34m\u001b[0m\u001b[0m\n\u001b[0m\u001b[1;32m    517\u001b[0m         \u001b[0mlat1\u001b[0m\u001b[0;34m,\u001b[0m \u001b[0mlng1\u001b[0m \u001b[0;34m=\u001b[0m \u001b[0mradians\u001b[0m\u001b[0;34m(\u001b[0m\u001b[0mdegrees\u001b[0m\u001b[0;34m=\u001b[0m\u001b[0ma\u001b[0m\u001b[0;34m.\u001b[0m\u001b[0mlatitude\u001b[0m\u001b[0;34m)\u001b[0m\u001b[0;34m,\u001b[0m \u001b[0mradians\u001b[0m\u001b[0;34m(\u001b[0m\u001b[0mdegrees\u001b[0m\u001b[0;34m=\u001b[0m\u001b[0ma\u001b[0m\u001b[0;34m.\u001b[0m\u001b[0mlongitude\u001b[0m\u001b[0;34m)\u001b[0m\u001b[0;34m\u001b[0m\u001b[0m\n\u001b[1;32m    518\u001b[0m         \u001b[0mlat2\u001b[0m\u001b[0;34m,\u001b[0m \u001b[0mlng2\u001b[0m \u001b[0;34m=\u001b[0m \u001b[0mradians\u001b[0m\u001b[0;34m(\u001b[0m\u001b[0mdegrees\u001b[0m\u001b[0;34m=\u001b[0m\u001b[0mb\u001b[0m\u001b[0;34m.\u001b[0m\u001b[0mlatitude\u001b[0m\u001b[0;34m)\u001b[0m\u001b[0;34m,\u001b[0m \u001b[0mradians\u001b[0m\u001b[0;34m(\u001b[0m\u001b[0mdegrees\u001b[0m\u001b[0;34m=\u001b[0m\u001b[0mb\u001b[0m\u001b[0;34m.\u001b[0m\u001b[0mlongitude\u001b[0m\u001b[0;34m)\u001b[0m\u001b[0;34m\u001b[0m\u001b[0m\n",
      "\u001b[0;32m/anaconda3/envs/env_scikit-learn/lib/python3.6/site-packages/geopy/point.py\u001b[0m in \u001b[0;36m__new__\u001b[0;34m(cls, latitude, longitude, altitude)\u001b[0m\n\u001b[1;32m    169\u001b[0m                     )\n\u001b[1;32m    170\u001b[0m                 \u001b[0;32melse\u001b[0m\u001b[0;34m:\u001b[0m\u001b[0;34m\u001b[0m\u001b[0m\n\u001b[0;32m--> 171\u001b[0;31m                     \u001b[0;32mreturn\u001b[0m \u001b[0mcls\u001b[0m\u001b[0;34m.\u001b[0m\u001b[0mfrom_sequence\u001b[0m\u001b[0;34m(\u001b[0m\u001b[0mseq\u001b[0m\u001b[0;34m)\u001b[0m\u001b[0;34m\u001b[0m\u001b[0m\n\u001b[0m\u001b[1;32m    172\u001b[0m \u001b[0;34m\u001b[0m\u001b[0m\n\u001b[1;32m    173\u001b[0m         \u001b[0;32mif\u001b[0m \u001b[0msingle_arg\u001b[0m\u001b[0;34m:\u001b[0m\u001b[0;34m\u001b[0m\u001b[0m\n",
      "\u001b[0;32m/anaconda3/envs/env_scikit-learn/lib/python3.6/site-packages/geopy/point.py\u001b[0m in \u001b[0;36mfrom_sequence\u001b[0;34m(cls, seq)\u001b[0m\n\u001b[1;32m    404\u001b[0m         \u001b[0;32mand\u001b[0m \u001b[0maltitude\u001b[0m\u001b[0;34m,\u001b[0m \u001b[0mrespectively\u001b[0m\u001b[0;34m.\u001b[0m\u001b[0;34m\u001b[0m\u001b[0m\n\u001b[1;32m    405\u001b[0m         \"\"\"\n\u001b[0;32m--> 406\u001b[0;31m         \u001b[0margs\u001b[0m \u001b[0;34m=\u001b[0m \u001b[0mtuple\u001b[0m\u001b[0;34m(\u001b[0m\u001b[0mislice\u001b[0m\u001b[0;34m(\u001b[0m\u001b[0mseq\u001b[0m\u001b[0;34m,\u001b[0m \u001b[0;36m4\u001b[0m\u001b[0;34m)\u001b[0m\u001b[0;34m)\u001b[0m\u001b[0;34m\u001b[0m\u001b[0m\n\u001b[0m\u001b[1;32m    407\u001b[0m         \u001b[0;32mif\u001b[0m \u001b[0mlen\u001b[0m\u001b[0;34m(\u001b[0m\u001b[0margs\u001b[0m\u001b[0;34m)\u001b[0m \u001b[0;34m>\u001b[0m \u001b[0;36m3\u001b[0m\u001b[0;34m:\u001b[0m\u001b[0;34m\u001b[0m\u001b[0m\n\u001b[1;32m    408\u001b[0m             raise ValueError('When creating a Point from sequence, it '\n",
      "\u001b[0;31mKeyboardInterrupt\u001b[0m: "
     ]
    }
   ],
   "source": [
    "mapped_stops = dict()\n",
    "for idx, row in tqdm(data.iterrows()):\n",
    "    if row.velocidade < 5:\n",
    "        for idx2,stop in stops_data.iterrows():\n",
    "            dist = prepro.distance_in_meters([row.lat,row.lng], [stop.stop_lat,stop.stop_lon])\n",
    "            if dist <20:\n",
    "#                 print('Finded points:{0}'.format([row.lat,row.lng]))\n",
    "                mapped_stops[idx] = [row.lat,row.lng]\n",
    "            else:\n",
    "                pass\n"
   ]
  },
  {
   "cell_type": "code",
   "execution_count": null,
   "metadata": {},
   "outputs": [],
   "source": [
    "gmp = gmplot.GoogleMapPlotter(stops_data.iloc[0,4],stops_data.iloc[0,5], 25)\n",
    "gmp.scatter(stops_data.iloc[:200,4].values,stops_data.iloc[:200,5].values,'#3B0B39', size=5, marker=False)\n",
    "gmp.draw(\"my_map_stops.html\")"
   ]
  },
  {
   "cell_type": "code",
   "execution_count": 72,
   "metadata": {},
   "outputs": [],
   "source": [
    "def plot_mapped_points(dict_mapped):\n",
    "    list_points = list()\n",
    "    for keys, values in dict_mapped.items():\n",
    "        list_points.append(values)\n",
    "    stops_data = np.array(list_points)\n",
    "    \n",
    "    gmp = gmplot.GoogleMapPlotter(stops_data[0,0],stops_data[0,1], 25)\n",
    "    gmp.scatter(stops_data[:200,0],stops_data[:200,1],'#3B0B39', size=5, marker=False)\n",
    "    gmp.draw(\"my_map_stops_20.html\")\n",
    "#     return stops_data\n",
    "plot_mapped_points(mapped_stops)"
   ]
  },
  {
   "cell_type": "code",
   "execution_count": 70,
   "metadata": {},
   "outputs": [
    {
     "data": {
      "text/plain": [
       "array([-34.83237125, -34.84056251, -34.86295704, -34.86628495,\n",
       "       -34.87803203, -34.87808414, -34.87806596, -34.87809309,\n",
       "       -34.87813839, -34.87813839, -34.8781475 , -34.87814754,\n",
       "       -34.87814758, -34.87812037, -34.87811135, -34.87810228,\n",
       "       -34.87770609, -34.87784943, -34.82526294, -34.82526294,\n",
       "       -34.87810166, -34.87809259, -34.87809272, -34.87809272,\n",
       "       -34.87809268, -34.87810179, -34.87811081, -34.87811988,\n",
       "       -34.87811077, -34.87810166, -34.87811073, -34.87811073,\n",
       "       -34.8781198 , -34.87810166, -34.87811069, -34.87810162,\n",
       "       -34.87811069, -34.87811073, -34.8781198 , -34.87811069,\n",
       "       -34.87811065, -34.87810154, -34.8780834 , -34.87807433,\n",
       "       -34.87806531, -34.87805624, -34.8780562 , -34.87805624,\n",
       "       -34.87806539, -34.87806543, -34.8780745 , -34.87809268,\n",
       "       -34.87809268, -34.87809263, -34.87808357, -34.87808353,\n",
       "       -34.87807442, -34.87808348, -34.87809259, -34.87809259,\n",
       "       -34.87809259, -34.87805616, -34.87804787, -34.87807507,\n",
       "       -34.87809305, -34.87812013, -34.87813826, -34.87813826,\n",
       "       -34.87812928, -34.87812928, -34.8781292 , -34.8778349 ,\n",
       "       -34.87774643, -34.84207947, -34.83235279, -34.84284973,\n",
       "       -34.87772872, -34.87776491, -34.87778309, -34.87806494,\n",
       "       -34.87754393, -34.87779354, -34.87804959, -34.87805694,\n",
       "       -34.87806601, -34.87775242, -34.87786662, -34.87767098,\n",
       "       -34.83186587, -34.82095719, -34.82566899, -34.83235264,\n",
       "       -34.87772864, -34.87772868, -34.87805718, -34.87777092,\n",
       "       -34.87784388, -34.87785291, -34.87787105, -34.87787101,\n",
       "       -34.87787101, -34.87786194, -34.87786194, -34.87785287,\n",
       "       -34.87785287, -34.87785291, -34.87785291, -34.87787101,\n",
       "       -34.87787101, -34.87788003, -34.87787096, -34.8778619 ,\n",
       "       -34.87785287, -34.87785291, -34.87784384, -34.87783473,\n",
       "       -34.8778438 , -34.8778619 , -34.87788003, -34.87787101,\n",
       "       -34.87787105, -34.87785295, -34.87786202, -34.87786202,\n",
       "       -34.87786202, -34.87785295, -34.87784384, -34.87784384,\n",
       "       -34.87782566, -34.87782566, -34.87777853, -34.87780069,\n",
       "       -34.87804791, -34.87816568, -34.87816572, -34.8775063 ,\n",
       "       -34.87789391, -34.82127603, -34.82632856, -34.87774637,\n",
       "       -34.87779167, -34.87781891, -34.87783705, -34.87783705,\n",
       "       -34.87806613, -34.87805702, -34.87805702, -34.87806613,\n",
       "       -34.8780752 , -34.87807516, -34.87807516, -34.87793646,\n",
       "       -34.8777821 , -34.87784509, -34.87811159, -34.87812994,\n",
       "       -34.8781299 , -34.87812985, -34.87812977, -34.87812981,\n",
       "       -34.87813888, -34.87815702, -34.87813888, -34.87814799,\n",
       "       -34.87813892, -34.87813896, -34.87813896, -34.87814807,\n",
       "       -34.87816621, -34.87816621, -34.8781571 , -34.8781299 ,\n",
       "       -34.87812074, -34.87812074, -34.87812079, -34.87813896,\n",
       "       -34.878139  , -34.87812994, -34.87812994, -34.87805665,\n",
       "       -34.87808385, -34.87810179, -34.8781198 , -34.87814705,\n",
       "       -34.87813789, -34.87812879, -34.8781015 , -34.87810142,\n",
       "       -34.87781427, -34.86325873, -34.87780898, -34.87782679,\n",
       "       -34.87800491, -34.87808283, -34.87810129, -34.87810133,\n",
       "       -34.87810133, -34.8781104 , -34.8781104 , -34.87809231])"
      ]
     },
     "execution_count": 70,
     "metadata": {},
     "output_type": "execute_result"
    }
   ],
   "source": [
    "a[0,1]"
   ]
  },
  {
   "cell_type": "code",
   "execution_count": 12,
   "metadata": {},
   "outputs": [],
   "source": [
    "pontos_30 = {6: [-7.8812956210025895, -34.83237124723258],\n",
    " 18: [-7.89846488784545, -34.84056250941919],\n",
    " 39: [-7.934204049264829, -34.862957036576965],\n",
    " 44: [-7.942199407484595, -34.86628495457737],\n",
    " 56: [-7.947490477064017, -34.877853254790374],\n",
    " 57: [-7.947499394797583, -34.877880501218065],\n",
    " 58: [-7.9475084354850045, -34.87788054232822],\n",
    " 59: [-7.946920094072267, -34.87803203351439],\n",
    " 60: [-7.9464135697005585, -34.87808414189445],\n",
    " 61: [-7.946404610980926, -34.87806596395701],\n",
    " 62: [-7.946386406656227, -34.878093086981785],\n",
    " 63: [-7.946377161047679, -34.8781383879402],\n",
    " 64: [-7.946377161047679, -34.8781383879402],\n",
    " 65: [-7.946386160749252, -34.878147497463644],\n",
    " 66: [-7.946395201435771, -34.878147538573806],\n",
    " 67: [-7.946404242122282, -34.87814757968402],\n",
    " 68: [-7.946404365076941, -34.87812037444212],\n",
    " 69: [-7.946413446748131, -34.87811134713752],\n",
    " 70: [-7.946413487732471, -34.87810227872321],\n",
    " 71: [-7.945041065131207, -34.87770609010264],\n",
    " 72: [-7.946649693102023, -34.8778494318167],\n",
    " 99: [-7.928865017822832, -34.82526293594889],\n",
    " 100: [-7.928865017822832, -34.82526293594889]}"
   ]
  },
  {
   "cell_type": "code",
   "execution_count": null,
   "metadata": {},
   "outputs": [],
   "source": []
  }
 ],
 "metadata": {
  "kernelspec": {
   "display_name": "Python 3",
   "language": "python",
   "name": "python3"
  },
  "language_info": {
   "codemirror_mode": {
    "name": "ipython",
    "version": 3
   },
   "file_extension": ".py",
   "mimetype": "text/x-python",
   "name": "python",
   "nbconvert_exporter": "python",
   "pygments_lexer": "ipython3",
   "version": "3.6.6"
  }
 },
 "nbformat": 4,
 "nbformat_minor": 2
}
